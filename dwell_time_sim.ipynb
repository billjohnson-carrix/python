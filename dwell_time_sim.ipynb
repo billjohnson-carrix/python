{
 "cells": [
  {
   "cell_type": "code",
   "execution_count": 1,
   "id": "406a8791-ba53-42af-85b5-5b6591fb21d4",
   "metadata": {},
   "outputs": [],
   "source": [
    "def return_zero_for_div_by_zero(numerators, divisors):\n",
    "    return [num / div if div != 0 else 0 for num, div in zip(numerators, divisors)]"
   ]
  },
  {
   "cell_type": "code",
   "execution_count": 2,
   "id": "b988b5e0-7ae9-439d-8d74-4cecdb39bd65",
   "metadata": {},
   "outputs": [
    {
     "name": "stdout",
     "output_type": "stream",
     "text": [
      "  Container  Arrivals  Departures  Dwell\n",
      "0         A         0          36     36\n",
      "1         B        12          48     36\n",
      "2         C        24          72     48\n"
     ]
    }
   ],
   "source": [
    "import pandas as pd\n",
    "\n",
    "# Define the data\n",
    "data = {\n",
    "    'Container': ['A', 'B', 'C'],\n",
    "    'Arrivals': [0, 12, 24],\n",
    "    'Departures': [36, 48, 72]\n",
    "}\n",
    "\n",
    "# Create a DataFrame\n",
    "containers = pd.DataFrame(data)\n",
    "containers['Dwell'] = containers['Departures'] - containers['Arrivals']\n",
    "\n",
    "# Display the DataFrame\n",
    "print(containers)"
   ]
  },
  {
   "cell_type": "code",
   "execution_count": 3,
   "id": "83c0bea7-b80a-4948-a27b-ed709694b05d",
   "metadata": {},
   "outputs": [],
   "source": [
    "# Event list \n",
    "\n",
    "event_list = pd.melt(containers, id_vars=['Container'], value_vars=['Arrivals', 'Departures'], \n",
    "                    var_name='Event Type', value_name='Time')\n",
    "event_list = event_list.sort_values(by='Time', ascending=True)\n",
    "event_list['Box_Count_Incr'] = event_list['Event Type'].apply(lambda x: 1 if x == 'Arrivals' else -1)\n",
    "event_list['Box_Count'] = event_list['Box_Count_Incr'].cumsum()\n",
    "event_list['Next Container'] = event_list['Container'].shift(-1)\n",
    "event_list['Next Event Type'] = event_list['Event Type'].shift(-1)\n",
    "event_list['Next Event Time'] = event_list['Time'].shift(-1)\n",
    "event_list['Duration'] = event_list['Next Event Time'] - event_list['Time']"
   ]
  },
  {
   "cell_type": "code",
   "execution_count": 4,
   "id": "c2b48e0f-df7a-4242-b98a-04ce3c506a78",
   "metadata": {},
   "outputs": [
    {
     "name": "stdout",
     "output_type": "stream",
     "text": [
      "  Container  Event Type  Time  Box_Count_Incr  Box_Count Next Container  \\\n",
      "0         A    Arrivals     0               1          1              B   \n",
      "1         B    Arrivals    12               1          2              C   \n",
      "2         C    Arrivals    24               1          3              A   \n",
      "3         A  Departures    36              -1          2              B   \n",
      "4         B  Departures    48              -1          1              C   \n",
      "5         C  Departures    72              -1          0           None   \n",
      "\n",
      "  Next Event Type  Next Event Time  Duration  \n",
      "0        Arrivals             12.0      12.0  \n",
      "1        Arrivals             24.0      12.0  \n",
      "2      Departures             36.0      12.0  \n",
      "3      Departures             48.0      12.0  \n",
      "4      Departures             72.0      24.0  \n",
      "5            None              NaN       NaN  \n"
     ]
    }
   ],
   "source": [
    "print(event_list)"
   ]
  },
  {
   "cell_type": "code",
   "execution_count": 5,
   "id": "d811813a-2504-424d-8f90-62e1d4270287",
   "metadata": {},
   "outputs": [],
   "source": [
    "intervals = event_list.copy()\n",
    "intervals = intervals.dropna(subset=['Next Container']).copy()\n",
    "intervals['Dwell Rise'] = intervals['Duration'] * intervals['Box_Count']\n",
    "intervals = pd.merge(intervals, containers, on='Container', how='inner')\n",
    "intervals['Dwell Loss'] = intervals.apply(lambda row: -1 * row['Dwell'] if row['Event Type'] == 'Departures' else 0, axis=1)\n",
    "intervals['Dwell Incr'] = intervals['Dwell Rise'] + intervals['Dwell Loss']\n",
    "intervals['Ending Dwell'] = intervals['Dwell Incr'].cumsum()\n",
    "intervals['Starting Dwell'] = intervals['Ending Dwell'] - intervals['Dwell Rise']\n",
    "intervals['Starting Avg Dwell'] = intervals['Starting Dwell'] / intervals['Box_Count']\n",
    "intervals['Ending Avg Dwell'] = intervals['Ending Dwell'] / intervals['Box_Count']"
   ]
  },
  {
   "cell_type": "code",
   "execution_count": 6,
   "id": "f5eaa806-cdea-4322-a430-d70442d4a396",
   "metadata": {},
   "outputs": [
    {
     "name": "stdout",
     "output_type": "stream",
     "text": [
      "  Container  Event Type  Time  Box_Count_Incr  Box_Count Next Container  \\\n",
      "0         A    Arrivals     0               1          1              B   \n",
      "1         B    Arrivals    12               1          2              C   \n",
      "2         C    Arrivals    24               1          3              A   \n",
      "3         A  Departures    36              -1          2              B   \n",
      "4         B  Departures    48              -1          1              C   \n",
      "\n",
      "  Next Event Type  Next Event Time  Duration  Dwell Rise  Arrivals  \\\n",
      "0        Arrivals             12.0      12.0        12.0         0   \n",
      "1        Arrivals             24.0      12.0        24.0        12   \n",
      "2      Departures             36.0      12.0        36.0        24   \n",
      "3      Departures             48.0      12.0        24.0         0   \n",
      "4      Departures             72.0      24.0        24.0        12   \n",
      "\n",
      "   Departures  Dwell  Dwell Loss  Dwell Incr  Ending Dwell  Starting Dwell  \\\n",
      "0          36     36           0        12.0          12.0             0.0   \n",
      "1          48     36           0        24.0          36.0            12.0   \n",
      "2          72     48           0        36.0          72.0            36.0   \n",
      "3          36     36         -36       -12.0          60.0            36.0   \n",
      "4          48     36         -36       -12.0          48.0            24.0   \n",
      "\n",
      "   Starting Avg Dwell  Ending Avg Dwell  \n",
      "0                 0.0              12.0  \n",
      "1                 6.0              18.0  \n",
      "2                12.0              24.0  \n",
      "3                18.0              30.0  \n",
      "4                24.0              48.0  \n"
     ]
    }
   ],
   "source": [
    "print(intervals)"
   ]
  },
  {
   "cell_type": "code",
   "execution_count": 7,
   "id": "7474feb6-bdd1-4e76-ace4-696133f3cfff",
   "metadata": {},
   "outputs": [],
   "source": [
    "avg_dwell_segments = intervals.copy()\n",
    "avg_dwell_segments = avg_dwell_segments.drop(columns=[\n",
    "                        'Container','Event Type','Box_Count_Incr','Box_Count'\n",
    "                        ,'Next Container','Next Event Type','Duration','Dwell Rise'\n",
    "                        ,'Arrivals','Departures','Dwell','Dwell Loss'\n",
    "                        ,'Dwell Incr','Starting Dwell','Ending Dwell'])"
   ]
  },
  {
   "cell_type": "code",
   "execution_count": 8,
   "id": "9757ba0a-622a-42bd-afcf-4db1e3af8a54",
   "metadata": {},
   "outputs": [
    {
     "name": "stdout",
     "output_type": "stream",
     "text": [
      "   Time  Next Event Time  Starting Avg Dwell  Ending Avg Dwell\n",
      "0     0             12.0                 0.0              12.0\n",
      "1    12             24.0                 6.0              18.0\n",
      "2    24             36.0                12.0              24.0\n",
      "3    36             48.0                18.0              30.0\n",
      "4    48             72.0                24.0              48.0\n"
     ]
    }
   ],
   "source": [
    "print(avg_dwell_segments)"
   ]
  },
  {
   "cell_type": "code",
   "execution_count": 9,
   "id": "0f348472-afef-4694-afd3-b52f407db01e",
   "metadata": {},
   "outputs": [
    {
     "data": {
      "image/png": "[encoded data removed]",
      "text/plain": [
       "<Figure size 640x480 with 1 Axes>"
      ]
     },
     "metadata": {},
     "output_type": "display_data"
    }
   ],
   "source": [
    "import matplotlib.pyplot as plt\n",
    "\n",
    "# Plot the line segments for the avg dwell\n",
    "for i in range(len(avg_dwell_segments)):\n",
    "    plt.plot([avg_dwell_segments.loc[i, 'Time'], avg_dwell_segments.loc[i, 'Next Event Time']]\n",
    "              , [avg_dwell_segments.loc[i, 'Starting Avg Dwell'], avg_dwell_segments.loc[i, 'Ending Avg Dwell']]\n",
    "             , color='#36454F')\n",
    "\n",
    "\"\"\"\n",
    "# Fill the area under the curve with rectangles and triangles\n",
    "plt.fill_between([avg_dwell_segments.loc[i, 'Time'], avg_dwell_segments.loc[i, 'Next Event Time']],\n",
    "                 [avg_dwell_segments.loc[i, 'Starting Avg Dwell'], avg_dwell_segments.loc[i, 'Ending Avg Dwell']],\n",
    "                 color='#36454F', alpha=0.3)\n",
    "\"\"\"\n",
    "\n",
    "# Display the plot\n",
    "plt.xlabel('Time (hours)')\n",
    "plt.ylabel('Avg Dwell (hours)')\n",
    "plt.title('Avg Dwell Time Over Time')\n",
    "plt.show()"
   ]
  },
  {
   "cell_type": "code",
   "execution_count": 10,
   "id": "d3b4f7d9-9b5d-43fe-8008-9b3029156317",
   "metadata": {},
   "outputs": [],
   "source": [
    "dwell_segments = intervals.copy()\n",
    "dwell_segments = dwell_segments.drop(columns=[\n",
    "                        'Container','Event Type','Box_Count_Incr','Box_Count'\n",
    "                        ,'Next Container','Next Event Type','Duration','Dwell Rise'\n",
    "                        ,'Arrivals','Departures','Dwell','Dwell Loss'\n",
    "                        ,'Dwell Incr','Starting Avg Dwell','Ending Avg Dwell'])"
   ]
  },
  {
   "cell_type": "code",
   "execution_count": 11,
   "id": "1b1e082a-e1e2-4ee0-9777-b4bf200313f6",
   "metadata": {},
   "outputs": [
    {
     "name": "stdout",
     "output_type": "stream",
     "text": [
      "   Time  Next Event Time  Ending Dwell  Starting Dwell\n",
      "0     0             12.0          12.0             0.0\n",
      "1    12             24.0          36.0            12.0\n",
      "2    24             36.0          72.0            36.0\n",
      "3    36             48.0          60.0            36.0\n",
      "4    48             72.0          48.0            24.0\n"
     ]
    }
   ],
   "source": [
    "print(dwell_segments)"
   ]
  },
  {
   "cell_type": "code",
   "execution_count": 12,
   "id": "1ee25ba9-f81e-4fd0-8996-8259a8f1c0b4",
   "metadata": {},
   "outputs": [
    {
     "data": {
      "image/png": "[encoded data removed]",
      "text/plain": [
       "<Figure size 640x480 with 1 Axes>"
      ]
     },
     "metadata": {},
     "output_type": "display_data"
    }
   ],
   "source": [
    "# Plot the line segments for the total dwell\n",
    "for i in range(len(dwell_segments)):\n",
    "    plt.plot([dwell_segments.loc[i, 'Time'], dwell_segments.loc[i, 'Next Event Time']]\n",
    "              , [dwell_segments.loc[i, 'Starting Dwell'], dwell_segments.loc[i, 'Ending Dwell']]\n",
    "             , color='#36454F')\n",
    "\n",
    "# Display the plot\n",
    "plt.xlabel('Time (hours)')\n",
    "plt.ylabel('Total Dwell (hours)')\n",
    "plt.title('Total Dwell Time Over Time')\n",
    "plt.show()"
   ]
  },
  {
   "cell_type": "code",
   "execution_count": 13,
   "id": "63a0baec-1bd7-42fa-abea-d180b709c7eb",
   "metadata": {},
   "outputs": [],
   "source": [
    "box_count_segments = intervals.copy()\n",
    "box_count_segments = box_count_segments.drop(columns=[\n",
    "                        'Container','Event Type','Box_Count_Incr'\n",
    "                        ,'Next Container','Next Event Type','Duration','Dwell Rise'\n",
    "                        ,'Arrivals','Departures','Dwell','Dwell Loss'\n",
    "                        ,'Dwell Incr','Ending Dwell','Starting Dwell','Starting Avg Dwell','Ending Avg Dwell'])"
   ]
  },
  {
   "cell_type": "code",
   "execution_count": 14,
   "id": "4602c60c-f6ff-405a-a38d-c4d07ec4be46",
   "metadata": {},
   "outputs": [
    {
     "name": "stdout",
     "output_type": "stream",
     "text": [
      "   Time  Box_Count  Next Event Time\n",
      "0     0          1             12.0\n",
      "1    12          2             24.0\n",
      "2    24          3             36.0\n",
      "3    36          2             48.0\n",
      "4    48          1             72.0\n"
     ]
    }
   ],
   "source": [
    "print(box_count_segments)"
   ]
  },
  {
   "cell_type": "code",
   "execution_count": 15,
   "id": "1fe2f41c-6f5d-4ce2-a1f2-35a4b5288283",
   "metadata": {},
   "outputs": [
    {
     "data": {
      "image/png": "[encoded data removed]",
      "text/plain": [
       "<Figure size 640x480 with 1 Axes>"
      ]
     },
     "metadata": {},
     "output_type": "display_data"
    }
   ],
   "source": [
    "# Plot the line segments for the box count\n",
    "for i in range(len(box_count_segments)):\n",
    "    plt.plot([box_count_segments.loc[i, 'Time'], box_count_segments.loc[i, 'Next Event Time']]\n",
    "              , [box_count_segments.loc[i, 'Box_Count'], box_count_segments.loc[i, 'Box_Count']]\n",
    "             , color='#36454F')\n",
    "\n",
    "# Display the plot\n",
    "plt.xlabel('Time (hours)')\n",
    "plt.ylabel('Container Count')\n",
    "plt.title('Container Count Over Time')\n",
    "plt.show()"
   ]
  },
  {
   "cell_type": "code",
   "execution_count": 16,
   "id": "dd79616c-50c4-46c5-b31a-dc7b23b1d239",
   "metadata": {},
   "outputs": [],
   "source": [
    "# Creating the sampling points\n",
    "import numpy as np\n",
    "\n",
    "sample_interval = 12 # in hours\n",
    "sample_offset = sample_interval / 2\n",
    "start_time = containers['Arrivals'].min()\n",
    "end_time = containers['Departures'].max()\n",
    "period = end_time - start_time\n",
    "sampling_times = list(np.arange(start_time, end_time + sample_interval, sample_interval))\n",
    "sampling_times = [time + sample_offset for time in sampling_times]\n",
    "sampling_df = pd.DataFrame(sampling_times, columns=['SamplingTime'])\n",
    "sampling_df = pd.merge(sampling_df.assign(key=1), avg_dwell_segments.assign(key=1), on='key').query('Time <= SamplingTime <= `Next Event Time`').drop('key', axis=1)\n",
    "sampling_df['SampleDwell'] = sampling_df['Starting Avg Dwell'] + sampling_df['SamplingTime'] - sampling_df['Time']\n",
    "sampling_df = sampling_df.sort_values(by=['SamplingTime', 'Time'], ascending=[True, True])\n",
    "sampling_df = sampling_df.drop(columns=['Time', 'Next Event Time', 'Starting Avg Dwell', 'Ending Avg Dwell'])\n",
    "sampling_df = sampling_df.drop_duplicates(subset='SamplingTime')"
   ]
  },
  {
   "cell_type": "code",
   "execution_count": 17,
   "id": "d9bca82c-9741-495a-b113-60d2a20a311e",
   "metadata": {},
   "outputs": [
    {
     "name": "stdout",
     "output_type": "stream",
     "text": [
      "    SamplingTime  SampleDwell\n",
      "0            6.0          6.0\n",
      "6           18.0         12.0\n",
      "12          30.0         18.0\n",
      "18          42.0         24.0\n",
      "24          54.0         30.0\n",
      "29          66.0         42.0\n"
     ]
    }
   ],
   "source": [
    "#print(start_time)\n",
    "#print(end_time)\n",
    "#print(sampling_df)\n",
    "print(sampling_df)"
   ]
  },
  {
   "cell_type": "code",
   "execution_count": 18,
   "id": "0dc851ac-e491-416c-98f4-002d7e10b902",
   "metadata": {},
   "outputs": [
    {
     "data": {
      "image/png": "[encoded data removed]",
      "text/plain": [
       "<Figure size 640x480 with 1 Axes>"
      ]
     },
     "metadata": {},
     "output_type": "display_data"
    }
   ],
   "source": [
    "import matplotlib.pyplot as plt\n",
    "\n",
    "# Plot the line segments for the avg dwell\n",
    "for i in range(len(avg_dwell_segments)):\n",
    "    plt.plot([avg_dwell_segments.loc[i, 'Time'], avg_dwell_segments.loc[i, 'Next Event Time']]\n",
    "              , [avg_dwell_segments.loc[i, 'Starting Avg Dwell'], avg_dwell_segments.loc[i, 'Ending Avg Dwell']]\n",
    "             , color='#36454F')\n",
    "\n",
    "# Overlay the sampling points\n",
    "plt.scatter(sampling_df['SamplingTime'], sampling_df['SampleDwell'], color='#36454F', label='Sampling Points')\n",
    "\n",
    "# Display the plot\n",
    "plt.xlabel('Time (hours)')\n",
    "plt.ylabel('Avg Dwell (hours)')\n",
    "plt.title('Avg Dwell Time Over Time and Sampled Points')\n",
    "plt.show()"
   ]
  },
  {
   "cell_type": "code",
   "execution_count": 19,
   "id": "f17e95b0-f99d-4075-abcb-a53d0d92c85b",
   "metadata": {},
   "outputs": [
    {
     "name": "stdout",
     "output_type": "stream",
     "text": [
      "  Container  Event Type  Time  Box_Count_Incr  Box_Count Next Container  \\\n",
      "0         A    Arrivals     0               1          1              B   \n",
      "1         B    Arrivals    12               1          2              C   \n",
      "2         C    Arrivals    24               1          3              A   \n",
      "3         A  Departures    36              -1          2              B   \n",
      "4         B  Departures    48              -1          1              C   \n",
      "\n",
      "  Next Event Type  Next Event Time  Duration  Dwell Rise  Arrivals  \\\n",
      "0        Arrivals             12.0      12.0        12.0         0   \n",
      "1        Arrivals             24.0      12.0        24.0        12   \n",
      "2      Departures             36.0      12.0        36.0        24   \n",
      "3      Departures             48.0      12.0        24.0         0   \n",
      "4      Departures             72.0      24.0        24.0        12   \n",
      "\n",
      "   Departures  Dwell  Dwell Loss  Dwell Incr  Ending Dwell  Starting Dwell  \\\n",
      "0          36     36           0        12.0          12.0             0.0   \n",
      "1          48     36           0        24.0          36.0            12.0   \n",
      "2          72     48           0        36.0          72.0            36.0   \n",
      "3          36     36         -36       -12.0          60.0            36.0   \n",
      "4          48     36         -36       -12.0          48.0            24.0   \n",
      "\n",
      "   Starting Avg Dwell  Ending Avg Dwell  \n",
      "0                 0.0              12.0  \n",
      "1                 6.0              18.0  \n",
      "2                12.0              24.0  \n",
      "3                18.0              30.0  \n",
      "4                24.0              48.0  \n"
     ]
    }
   ],
   "source": [
    "print(intervals)"
   ]
  },
  {
   "cell_type": "code",
   "execution_count": 20,
   "id": "d65de7a4-8479-47e3-bd1e-52149b3cfa38",
   "metadata": {},
   "outputs": [],
   "source": [
    "intervals['Areas'] = intervals['Starting Avg Dwell'] * intervals['Duration'] + 0.5 * (intervals['Duration'] ** 2)\n",
    "integration_result = intervals['Areas'].sum() / period"
   ]
  },
  {
   "cell_type": "code",
   "execution_count": 21,
   "id": "1ce3c679-5e18-4d76-9e8b-282dc9da6005",
   "metadata": {},
   "outputs": [
    {
     "name": "stdout",
     "output_type": "stream",
     "text": [
      "  Container  Event Type  Time  Box_Count_Incr  Box_Count Next Container  \\\n",
      "0         A    Arrivals     0               1          1              B   \n",
      "1         B    Arrivals    12               1          2              C   \n",
      "2         C    Arrivals    24               1          3              A   \n",
      "3         A  Departures    36              -1          2              B   \n",
      "4         B  Departures    48              -1          1              C   \n",
      "\n",
      "  Next Event Type  Next Event Time  Duration  Dwell Rise  Arrivals  \\\n",
      "0        Arrivals             12.0      12.0        12.0         0   \n",
      "1        Arrivals             24.0      12.0        24.0        12   \n",
      "2      Departures             36.0      12.0        36.0        24   \n",
      "3      Departures             48.0      12.0        24.0         0   \n",
      "4      Departures             72.0      24.0        24.0        12   \n",
      "\n",
      "   Departures  Dwell  Dwell Loss  Dwell Incr  Ending Dwell  Starting Dwell  \\\n",
      "0          36     36           0        12.0          12.0             0.0   \n",
      "1          48     36           0        24.0          36.0            12.0   \n",
      "2          72     48           0        36.0          72.0            36.0   \n",
      "3          36     36         -36       -12.0          60.0            36.0   \n",
      "4          48     36         -36       -12.0          48.0            24.0   \n",
      "\n",
      "   Starting Avg Dwell  Ending Avg Dwell  Areas  \n",
      "0                 0.0              12.0   72.0  \n",
      "1                 6.0              18.0  144.0  \n",
      "2                12.0              24.0  216.0  \n",
      "3                18.0              30.0  288.0  \n",
      "4                24.0              48.0  864.0  \n"
     ]
    }
   ],
   "source": [
    "print(intervals)"
   ]
  },
  {
   "cell_type": "code",
   "execution_count": 22,
   "id": "b763a9c1-4054-4d12-9469-61d91682abde",
   "metadata": {},
   "outputs": [
    {
     "name": "stdout",
     "output_type": "stream",
     "text": [
      "22.0\n"
     ]
    }
   ],
   "source": [
    "print(integration_result)"
   ]
  },
  {
   "cell_type": "code",
   "execution_count": 23,
   "id": "d2aefe7b-c6b6-4a56-9938-80f4967c99af",
   "metadata": {},
   "outputs": [],
   "source": [
    "sampling_result = sampling_df['SampleDwell'].mean()"
   ]
  },
  {
   "cell_type": "code",
   "execution_count": 24,
   "id": "52d8a452-34c4-474b-89ae-19a0ec00abb9",
   "metadata": {},
   "outputs": [
    {
     "name": "stdout",
     "output_type": "stream",
     "text": [
      "22.0\n"
     ]
    }
   ],
   "source": [
    "print(sampling_result)"
   ]
  },
  {
   "cell_type": "code",
   "execution_count": 25,
   "id": "50d846bf-9e29-4e52-8fe9-b10c93119ecd",
   "metadata": {},
   "outputs": [],
   "source": [
    "containers['DwellAreas'] = 0.5 * ((containers['Departures'] - containers['Arrivals']) ** 2)"
   ]
  },
  {
   "cell_type": "code",
   "execution_count": 26,
   "id": "b16262ae-167d-47f4-91c9-113f161858a6",
   "metadata": {},
   "outputs": [
    {
     "name": "stdout",
     "output_type": "stream",
     "text": [
      "  Container  Arrivals  Departures  Dwell  DwellAreas\n",
      "0         A         0          36     36       648.0\n",
      "1         B        12          48     36       648.0\n",
      "2         C        24          72     48      1152.0\n"
     ]
    }
   ],
   "source": [
    "print(containers)"
   ]
  },
  {
   "cell_type": "code",
   "execution_count": 27,
   "id": "d1b87a03-2f41-4823-8b3e-589c1fe71443",
   "metadata": {},
   "outputs": [],
   "source": [
    "containers['BoxCountAreas'] = containers['Departures'] - containers['Arrivals']"
   ]
  },
  {
   "cell_type": "code",
   "execution_count": 28,
   "id": "81f0c324-948f-4286-9cbe-ede7b9410603",
   "metadata": {},
   "outputs": [
    {
     "name": "stdout",
     "output_type": "stream",
     "text": [
      "  Container  Arrivals  Departures  Dwell  DwellAreas  BoxCountAreas\n",
      "0         A         0          36     36       648.0             36\n",
      "1         B        12          48     36       648.0             36\n",
      "2         C        24          72     48      1152.0             48\n"
     ]
    }
   ],
   "source": [
    "print(containers)"
   ]
  },
  {
   "cell_type": "code",
   "execution_count": 29,
   "id": "b8228db8-247b-4d9f-8182-6d73de52afde",
   "metadata": {},
   "outputs": [],
   "source": [
    "ratio_result = containers['DwellAreas'].sum() / containers['BoxCountAreas'].sum()"
   ]
  },
  {
   "cell_type": "code",
   "execution_count": 30,
   "id": "7ef2bc1f-da2a-4aed-9edd-9d93276dab49",
   "metadata": {},
   "outputs": [
    {
     "name": "stdout",
     "output_type": "stream",
     "text": [
      "20.4\n"
     ]
    }
   ],
   "source": [
    "print(ratio_result)"
   ]
  },
  {
   "cell_type": "code",
   "execution_count": 31,
   "id": "b6ceefa8-9e2a-4e24-9d21-1ed261b6a219",
   "metadata": {},
   "outputs": [],
   "source": [
    "mainsail_result = (containers['Departures'].sum() - containers['Arrivals'].sum())/containers.shape[0]"
   ]
  },
  {
   "cell_type": "code",
   "execution_count": 32,
   "id": "5e7836d9-b582-4d7c-84f0-89cfbb94d2d5",
   "metadata": {},
   "outputs": [
    {
     "name": "stdout",
     "output_type": "stream",
     "text": [
      "40.0\n"
     ]
    }
   ],
   "source": [
    "print(mainsail_result)"
   ]
  },
  {
   "cell_type": "code",
   "execution_count": 33,
   "id": "e83a746d-94a2-4483-ab91-95f8532e3da5",
   "metadata": {},
   "outputs": [],
   "source": [
    "event_list_days = pd.melt(containers, id_vars=['Container'], value_vars=['Arrivals', 'Departures'], \n",
    "                    var_name='Event Type', value_name='Time')\n",
    "\n",
    "last_day = end_time // 24\n",
    "first_day = start_time // 24\n",
    "num_days = last_day - first_day \n",
    "days = list(range(first_day + 1, last_day + 1))\n",
    "new_events = pd.DataFrame({\n",
    "    'Container': [None for _ in range(num_days)],\n",
    "    'Event Type': ['Day Change' for _ in range(num_days)],\n",
    "    'Time': [(_ + 1) * 24 for _ in range(num_days)]\n",
    "})\n",
    "\n",
    "event_list_days = pd.concat([event_list_days, new_events], ignore_index=True)\n",
    "event_list_days = event_list_days.sort_values(by='Time', ascending=True)\n",
    "event_list_days['Box_Count_Incr'] = event_list_days['Event Type'].apply(lambda x: 1 if x == 'Arrivals' else -1 if x == 'Departures' else 0)\n",
    "event_list_days['Box_Count'] = event_list_days['Box_Count_Incr'].cumsum()\n",
    "event_list_days['Next Container'] = event_list_days['Container'].shift(-1)\n",
    "event_list_days['Next Event Type'] = event_list_days['Event Type'].shift(-1)\n",
    "event_list_days['Next Event Time'] = event_list_days['Time'].shift(-1)\n",
    "event_list_days['Duration'] = event_list_days['Next Event Time'] - event_list_days['Time']"
   ]
  },
  {
   "cell_type": "code",
   "execution_count": 34,
   "id": "e423cdee-7448-42d1-866a-3e09660ed723",
   "metadata": {},
   "outputs": [
    {
     "name": "stdout",
     "output_type": "stream",
     "text": [
      "  Container  Event Type  Time  Box_Count_Incr  Box_Count Next Container  \\\n",
      "0         A    Arrivals     0               1          1              B   \n",
      "1         B    Arrivals    12               1          2              C   \n",
      "2         C    Arrivals    24               1          3           None   \n",
      "6      None  Day Change    24               0          3              A   \n",
      "3         A  Departures    36              -1          2              B   \n",
      "4         B  Departures    48              -1          1           None   \n",
      "7      None  Day Change    48               0          1              C   \n",
      "5         C  Departures    72              -1          0           None   \n",
      "8      None  Day Change    72               0          0           None   \n",
      "\n",
      "  Next Event Type  Next Event Time  Duration  \n",
      "0        Arrivals             12.0      12.0  \n",
      "1        Arrivals             24.0      12.0  \n",
      "2      Day Change             24.0       0.0  \n",
      "6      Departures             36.0      12.0  \n",
      "3      Departures             48.0      12.0  \n",
      "4      Day Change             48.0       0.0  \n",
      "7      Departures             72.0      24.0  \n",
      "5      Day Change             72.0       0.0  \n",
      "8            None              NaN       NaN  \n"
     ]
    }
   ],
   "source": [
    "print(event_list_days)"
   ]
  },
  {
   "cell_type": "code",
   "execution_count": 35,
   "id": "95ebc4e3-b7f7-4132-8534-a1b5f4f63036",
   "metadata": {},
   "outputs": [],
   "source": [
    "intervals = event_list_days.copy()\n",
    "intervals = intervals.dropna(subset=['Next Event Time']).copy()\n",
    "intervals['Dwell Rise'] = intervals['Duration'] * intervals['Box_Count']\n",
    "intervals = pd.merge(intervals, containers, on='Container', how='left')\n",
    "intervals['Dwell Loss'] = intervals.apply(lambda row: -1 * row['Dwell'] if row['Event Type'] == 'Departures' else 0, axis=1)\n",
    "intervals['Dwell Incr'] = intervals['Dwell Rise'] + intervals['Dwell Loss']\n",
    "intervals['Ending Dwell'] = intervals['Dwell Incr'].cumsum()\n",
    "intervals['Starting Dwell'] = intervals['Ending Dwell'] - intervals['Dwell Rise']\n",
    "intervals['Starting Avg Dwell'] = return_zero_for_div_by_zero(intervals['Starting Dwell'], intervals['Box_Count'])\n",
    "intervals['Ending Avg Dwell'] = return_zero_for_div_by_zero(intervals['Ending Dwell'], intervals['Box_Count'])\n",
    "intervals['Areas'] = intervals['Starting Avg Dwell'] * intervals['Duration'] + 0.5 * (intervals['Duration'] ** 2)\n",
    "intervals['Day'] = (intervals['Time'] // 24) + 1"
   ]
  },
  {
   "cell_type": "code",
   "execution_count": 36,
   "id": "790d01e0-7689-4ec0-aabd-7f94ea97dd8d",
   "metadata": {},
   "outputs": [
    {
     "name": "stdout",
     "output_type": "stream",
     "text": [
      "  Container  Event Type  Time  Box_Count_Incr  Box_Count Next Container  \\\n",
      "0         A    Arrivals     0               1          1              B   \n",
      "1         B    Arrivals    12               1          2              C   \n",
      "2         C    Arrivals    24               1          3           None   \n",
      "3      None  Day Change    24               0          3              A   \n",
      "4         A  Departures    36              -1          2              B   \n",
      "5         B  Departures    48              -1          1           None   \n",
      "6      None  Day Change    48               0          1              C   \n",
      "7         C  Departures    72              -1          0           None   \n",
      "\n",
      "  Next Event Type  Next Event Time  Duration  Dwell Rise  ...  DwellAreas  \\\n",
      "0        Arrivals             12.0      12.0        12.0  ...       648.0   \n",
      "1        Arrivals             24.0      12.0        24.0  ...       648.0   \n",
      "2      Day Change             24.0       0.0         0.0  ...      1152.0   \n",
      "3      Departures             36.0      12.0        36.0  ...         NaN   \n",
      "4      Departures             48.0      12.0        24.0  ...       648.0   \n",
      "5      Day Change             48.0       0.0         0.0  ...       648.0   \n",
      "6      Departures             72.0      24.0        24.0  ...         NaN   \n",
      "7      Day Change             72.0       0.0         0.0  ...      1152.0   \n",
      "\n",
      "   BoxCountAreas  Dwell Loss  Dwell Incr  Ending Dwell  Starting Dwell  \\\n",
      "0           36.0         0.0        12.0          12.0             0.0   \n",
      "1           36.0         0.0        24.0          36.0            12.0   \n",
      "2           48.0         0.0         0.0          36.0            36.0   \n",
      "3            NaN         0.0        36.0          72.0            36.0   \n",
      "4           36.0       -36.0       -12.0          60.0            36.0   \n",
      "5           36.0       -36.0       -36.0          24.0            24.0   \n",
      "6            NaN         0.0        24.0          48.0            24.0   \n",
      "7           48.0       -48.0       -48.0           0.0             0.0   \n",
      "\n",
      "   Starting Avg Dwell  Ending Avg Dwell  Areas  Day  \n",
      "0                 0.0              12.0   72.0    1  \n",
      "1                 6.0              18.0  144.0    1  \n",
      "2                12.0              12.0    0.0    2  \n",
      "3                12.0              24.0  216.0    2  \n",
      "4                18.0              30.0  288.0    2  \n",
      "5                24.0              24.0    0.0    3  \n",
      "6                24.0              48.0  864.0    3  \n",
      "7                 0.0               0.0    0.0    4  \n",
      "\n",
      "[8 rows x 23 columns]\n"
     ]
    }
   ],
   "source": [
    "print(intervals)"
   ]
  },
  {
   "cell_type": "code",
   "execution_count": 37,
   "id": "e1d9fc20-432c-497c-9208-1db19418529f",
   "metadata": {},
   "outputs": [
    {
     "name": "stdout",
     "output_type": "stream",
     "text": [
      "22.0\n"
     ]
    }
   ],
   "source": [
    "integration_result = intervals['Areas'].sum() / period\n",
    "print(integration_result)"
   ]
  },
  {
   "cell_type": "code",
   "execution_count": 38,
   "id": "7d954cc8-3eb7-417d-9196-5f3f0bcd0a82",
   "metadata": {},
   "outputs": [],
   "source": [
    "daily_integration_results = intervals.groupby('Day').agg({'Areas': 'sum', 'Duration': 'sum', 'Time': 'count'}).reset_index()\n",
    "daily_integration_results = daily_integration_results.rename(columns={\n",
    "    'Areas': 'Total_Areas',\n",
    "    'Duration': 'Total_Duration',\n",
    "    'Time': 'Record_Count'\n",
    "})\n",
    "daily_integration_results = daily_integration_results[\n",
    "    ~((daily_integration_results['Total_Duration'] == 0.0) & (daily_integration_results['Record_Count'] == 1))\n",
    "]\n",
    "daily_integration_results['avg dwell'] = daily_integration_results['Total_Areas'] / 24"
   ]
  },
  {
   "cell_type": "code",
   "execution_count": 39,
   "id": "23c3c7d5-3ce3-4e30-99b3-2ad8fb5ed2f8",
   "metadata": {},
   "outputs": [
    {
     "name": "stdout",
     "output_type": "stream",
     "text": [
      "   Day  Total_Areas  Total_Duration  Record_Count  avg dwell\n",
      "0    1        216.0            24.0             2        9.0\n",
      "1    2        504.0            24.0             3       21.0\n",
      "2    3        864.0            24.0             2       36.0\n"
     ]
    }
   ],
   "source": [
    "print(daily_integration_results)"
   ]
  },
  {
   "cell_type": "code",
   "execution_count": 40,
   "id": "5e668ee2-3d52-433a-92f9-3fd1cf3e1fe9",
   "metadata": {},
   "outputs": [],
   "source": [
    "integration_check = daily_integration_results['avg dwell'].mean()"
   ]
  },
  {
   "cell_type": "code",
   "execution_count": 41,
   "id": "02ad7e94-c8bf-48b1-bc7c-e515bf7777d3",
   "metadata": {},
   "outputs": [
    {
     "name": "stdout",
     "output_type": "stream",
     "text": [
      "22.0\n"
     ]
    }
   ],
   "source": [
    "print(integration_check)"
   ]
  },
  {
   "cell_type": "code",
   "execution_count": 42,
   "id": "1fa75a1d-08f2-4ca3-9493-f76965e3068b",
   "metadata": {},
   "outputs": [],
   "source": [
    "daily_ratio_results = daily_integration_results[['Day']]\n",
    "daily_ratio_results = daily_ratio_results.merge(containers, how='cross')\n",
    "daily_ratio_results = daily_ratio_results.drop(columns=['Dwell', 'DwellAreas', 'BoxCountAreas'])\n",
    "daily_ratio_results['Start_of_day'] = (daily_ratio_results['Day'] - 1) * 24\n",
    "daily_ratio_results = daily_ratio_results[daily_ratio_results['Departures'] > daily_ratio_results['Start_of_day']]\n",
    "daily_ratio_results['End_of_day'] = daily_ratio_results['Day'] * 24\n",
    "daily_ratio_results = daily_ratio_results[daily_ratio_results['Arrivals'] < daily_ratio_results['End_of_day']]\n",
    "daily_ratio_results['Daily_dwell_start'] = np.maximum(daily_ratio_results['Arrivals'], daily_ratio_results['Start_of_day'])\n",
    "daily_ratio_results['Daily_dwell_end'] = np.minimum(daily_ratio_results['Departures'], daily_ratio_results['End_of_day'])\n",
    "daily_ratio_results['Daily_dwell_rise'] = daily_ratio_results['Daily_dwell_end'] - daily_ratio_results['Daily_dwell_start']\n",
    "daily_ratio_results['Daily_dwell_final'] = daily_ratio_results.sort_values('Day').groupby('Container')['Daily_dwell_rise'].cumsum()\n",
    "daily_ratio_results['Daily_dwell_begin'] = daily_ratio_results['Daily_dwell_final'] - daily_ratio_results['Daily_dwell_rise']\n",
    "daily_ratio_results['Daily_avg_dwell'] = (daily_ratio_results['Daily_dwell_final'] + daily_ratio_results['Daily_dwell_begin'])/2\n",
    "daily_ratio_results['Avg_dwell_term'] = daily_ratio_results['Daily_avg_dwell'] * daily_ratio_results['Daily_dwell_rise'] / 24.0\n",
    "daily_ratio_results['Avg_box_count_term'] = daily_ratio_results['Daily_dwell_rise'] / 24.0\n",
    "grouped_sum = daily_ratio_results.groupby('Day')[['Avg_dwell_term', 'Avg_box_count_term']].sum()\n",
    "grouped_sum['Division'] = grouped_sum['Avg_dwell_term'] / grouped_sum['Avg_box_count_term']"
   ]
  },
  {
   "cell_type": "code",
   "execution_count": 43,
   "id": "48cab678-b42d-4c32-8c25-9d4aa851eac3",
   "metadata": {},
   "outputs": [
    {
     "name": "stdout",
     "output_type": "stream",
     "text": [
      "   Day Container  Arrivals  Departures  Start_of_day  End_of_day  \\\n",
      "0    1         A         0          36             0          24   \n",
      "1    1         B        12          48             0          24   \n",
      "3    2         A         0          36            24          48   \n",
      "4    2         B        12          48            24          48   \n",
      "5    2         C        24          72            24          48   \n",
      "8    3         C        24          72            48          72   \n",
      "\n",
      "   Daily_dwell_start  Daily_dwell_end  Daily_dwell_rise  Daily_dwell_final  \\\n",
      "0                  0               24                24                 24   \n",
      "1                 12               24                12                 12   \n",
      "3                 24               36                12                 36   \n",
      "4                 24               48                24                 36   \n",
      "5                 24               48                24                 24   \n",
      "8                 48               72                24                 48   \n",
      "\n",
      "   Daily_dwell_begin  Daily_avg_dwell  Avg_dwell_term  Avg_box_count_term  \n",
      "0                  0             12.0            12.0                 1.0  \n",
      "1                  0              6.0             3.0                 0.5  \n",
      "3                 24             30.0            15.0                 0.5  \n",
      "4                 12             24.0            24.0                 1.0  \n",
      "5                  0             12.0            12.0                 1.0  \n",
      "8                 24             36.0            36.0                 1.0  \n",
      "     Avg_dwell_term  Avg_box_count_term  Division\n",
      "Day                                              \n",
      "1              15.0                 1.5      10.0\n",
      "2              51.0                 2.5      20.4\n",
      "3              36.0                 1.0      36.0\n",
      "22.133333333333336\n"
     ]
    }
   ],
   "source": [
    "print(daily_ratio_results)\n",
    "print(grouped_sum)\n",
    "print(grouped_sum['Division'].mean())"
   ]
  },
  {
   "cell_type": "code",
   "execution_count": 44,
   "id": "3d4d5105-a685-4646-872c-75947cc3a13b",
   "metadata": {},
   "outputs": [
    {
     "name": "stdout",
     "output_type": "stream",
     "text": [
      "    SamplingTime  SampleDwell\n",
      "0            6.0          6.0\n",
      "6           18.0         12.0\n",
      "12          30.0         18.0\n",
      "18          42.0         24.0\n",
      "24          54.0         30.0\n",
      "29          66.0         42.0\n"
     ]
    }
   ],
   "source": [
    "print(sampling_df)"
   ]
  },
  {
   "cell_type": "code",
   "execution_count": 45,
   "id": "3a604239-e47d-4ab4-b669-3d1238d3e448",
   "metadata": {},
   "outputs": [
    {
     "name": "stdout",
     "output_type": "stream",
     "text": [
      "[1, 2, 3]\n"
     ]
    }
   ],
   "source": [
    "print(days)"
   ]
  },
  {
   "cell_type": "code",
   "execution_count": 46,
   "id": "1eaaa3ce-eef0-42b0-bd94-d0a4341940fd",
   "metadata": {},
   "outputs": [],
   "source": [
    "day_end_times = [day * 24.0 for day in days]"
   ]
  },
  {
   "cell_type": "code",
   "execution_count": 47,
   "id": "921e3a1d-549b-4e6d-8b30-f113eb41d93d",
   "metadata": {},
   "outputs": [
    {
     "name": "stdout",
     "output_type": "stream",
     "text": [
      "[24.0, 48.0, 72.0]\n"
     ]
    }
   ],
   "source": [
    "print(day_end_times)"
   ]
  },
  {
   "cell_type": "code",
   "execution_count": 48,
   "id": "e31481d6-739d-4232-9569-f20274f857b0",
   "metadata": {},
   "outputs": [],
   "source": [
    "sampling_df = sampling_df.reset_index()"
   ]
  },
  {
   "cell_type": "code",
   "execution_count": 49,
   "id": "2a13d442-3efc-45de-8d76-6d46aaadd24f",
   "metadata": {},
   "outputs": [],
   "source": [
    "sampling_df = sampling_df.drop(columns=['index'])"
   ]
  },
  {
   "cell_type": "code",
   "execution_count": 50,
   "id": "b2597d4f-7d41-4d18-b726-41c5240ca496",
   "metadata": {},
   "outputs": [],
   "source": [
    "sampling_df['DayIndex'] = sampling_df['SamplingTime'].apply(lambda x: int(x / 24.0) + 1)\n",
    "sampling_df['TranslatedTime'] = sampling_df['SamplingTime'] - sampling_df['DayIndex'] * 24.0\n",
    "sampling_df['TranslatedQuotient'] = sampling_df['TranslatedTime'].apply(lambda x: int(x / 24.0))\n",
    "sampling_df['Day'] = sampling_df['DayIndex'] + sampling_df['TranslatedQuotient']\n",
    "sampling_df['Day'] = sampling_df['Day'].apply(lambda x: max(x, 1))"
   ]
  },
  {
   "cell_type": "code",
   "execution_count": 51,
   "id": "322790b1-147e-4bc6-a2a7-5a350f699335",
   "metadata": {},
   "outputs": [
    {
     "name": "stdout",
     "output_type": "stream",
     "text": [
      "   SamplingTime  SampleDwell  DayIndex  TranslatedTime  TranslatedQuotient  \\\n",
      "0           6.0          6.0         1           -18.0                   0   \n",
      "1          18.0         12.0         1            -6.0                   0   \n",
      "2          30.0         18.0         2           -18.0                   0   \n",
      "3          42.0         24.0         2            -6.0                   0   \n",
      "4          54.0         30.0         3           -18.0                   0   \n",
      "5          66.0         42.0         3            -6.0                   0   \n",
      "\n",
      "   Day  \n",
      "0    1  \n",
      "1    1  \n",
      "2    2  \n",
      "3    2  \n",
      "4    3  \n",
      "5    3  \n"
     ]
    }
   ],
   "source": [
    "print(sampling_df)"
   ]
  },
  {
   "cell_type": "code",
   "execution_count": 52,
   "id": "205d227e-95a7-41f9-9b16-7304b2cc32a8",
   "metadata": {},
   "outputs": [],
   "source": [
    "daily_sampling_results = sampling_df.groupby('Day')['SampleDwell'].mean().reset_index()\n",
    "daily_sampling_results = daily_sampling_results.rename(columns={\n",
    "    'SampleDwell': 'Avg Dwell'\n",
    "})"
   ]
  },
  {
   "cell_type": "code",
   "execution_count": 53,
   "id": "15483e77-c3a5-4984-af40-c9bbaba439bf",
   "metadata": {},
   "outputs": [
    {
     "name": "stdout",
     "output_type": "stream",
     "text": [
      "   Day  Avg Dwell\n",
      "0    1        9.0\n",
      "1    2       21.0\n",
      "2    3       36.0\n"
     ]
    }
   ],
   "source": [
    "print(daily_sampling_results)"
   ]
  },
  {
   "cell_type": "code",
   "execution_count": 54,
   "id": "b97ac237-7e2b-4272-82c1-f420a6755e59",
   "metadata": {},
   "outputs": [
    {
     "name": "stdout",
     "output_type": "stream",
     "text": [
      "22.0\n"
     ]
    }
   ],
   "source": [
    "print(daily_sampling_results['Avg Dwell'].mean())"
   ]
  },
  {
   "cell_type": "markdown",
   "id": "618224e3-26fa-401c-a622-ff6d0d6b0184",
   "metadata": {},
   "source": [
    "So far, I've computed the average dwell time over the period using integration, sampling, the ratio method, and the Mainsail metric. I've also computed daily averages for the integration method, for sampling, and for the ratio method and compared those to the values for the entire period.\n",
    "\n",
    "What's next is to compute daily averages for the Mainsail metric and compare those to the values for the entire period.\n",
    "\n",
    "Then I need to pull all of the above into a function that takes the dataframe of arrivals and departures and a sampling frequency.\n",
    "\n",
    "Then I need to set the notebook up to ingest TOS data."
   ]
  },
  {
   "cell_type": "code",
   "execution_count": 55,
   "id": "e07628e3-401e-4df5-96c8-e726c230d983",
   "metadata": {},
   "outputs": [],
   "source": [
    "mainsail_daily_results = daily_integration_results.copy()\n",
    "mainsail_daily_results = mainsail_daily_results.drop(['Total_Areas', 'Total_Duration', 'Record_Count', 'avg dwell'], axis=1)\n",
    "mainsail_daily_results = mainsail_daily_results.merge(containers, how='cross')\n",
    "mainsail_daily_results['Day_start'] = (mainsail_daily_results['Day'] - 1) * 24\n",
    "mainsail_daily_results['Day_end'] = mainsail_daily_results['Day'] * 24\n",
    "mainsail_daily_results = mainsail_daily_results[(mainsail_daily_results['Arrivals'] >= mainsail_daily_results['Day_start']) & (mainsail_daily_results['Departures'] <= mainsail_daily_results['Day_end'])]"
   ]
  },
  {
   "cell_type": "code",
   "execution_count": 56,
   "id": "7000e6ed-9863-43a0-a156-aa60793befcd",
   "metadata": {},
   "outputs": [
    {
     "name": "stdout",
     "output_type": "stream",
     "text": [
      "Empty DataFrame\n",
      "Columns: [Day, Container, Arrivals, Departures, Dwell, DwellAreas, BoxCountAreas, Day_start, Day_end]\n",
      "Index: []\n"
     ]
    }
   ],
   "source": [
    "print(mainsail_daily_results)"
   ]
  },
  {
   "cell_type": "code",
   "execution_count": 63,
   "id": "01fe2784-6d79-41cb-aeb2-ca2392634a42",
   "metadata": {},
   "outputs": [],
   "source": [
    "import pandas as pd\n",
    "import matplotlib.pyplot as plt\n",
    "import numpy as np"
   ]
  },
  {
   "cell_type": "code",
   "execution_count": 338,
   "id": "891e15ff-f52e-4ce7-b5d9-3467d53e5eb6",
   "metadata": {},
   "outputs": [],
   "source": [
    "def dwell_times(container_times, sampling_interval):\n",
    "\n",
    "    def plot_segments(segments, x1, x2, y1, y2, xTitle, yTitle, plotTitle, color, show):\n",
    "        # Create the plot object\n",
    "        for i in range(len(segments)):\n",
    "            plt.plot([segments.loc[i, x1], segments.loc[i, x2]]\n",
    "                      , [segments.loc[i, y1], segments.loc[i, y2]]\n",
    "                     , color=color)\n",
    "        \n",
    "        # Display the plot\n",
    "        plt.xlabel(xTitle)\n",
    "        plt.ylabel(yTitle)\n",
    "        plt.title(plotTitle)\n",
    "        if show:\n",
    "            plt.show()\n",
    "        return plt\n",
    "\n",
    "    def return_zero_for_div_by_zero(numerators, divisors):\n",
    "        return [num / div if div != 0 else 0 for num, div in zip(numerators, divisors)]\n",
    "    \n",
    "    container_times['Dwell'] = container_times['Departures'] - container_times['Arrivals']\n",
    "\n",
    "    # Event list \n",
    "    event_list = pd.melt(container_times, id_vars=['Container'], value_vars=['Arrivals', 'Departures'], \n",
    "                        var_name='Event Type', value_name='Time')\n",
    "    event_list = event_list.sort_values(by='Time', ascending=True)\n",
    "    event_list['Box_Count_Incr'] = event_list['Event Type'].apply(lambda x: 1 if x == 'Arrivals' else -1)\n",
    "    event_list['Box_Count'] = event_list['Box_Count_Incr'].cumsum()\n",
    "    event_list['Next Container'] = event_list['Container'].shift(-1)\n",
    "    event_list['Next Event Type'] = event_list['Event Type'].shift(-1)\n",
    "    event_list['Next Event Time'] = event_list['Time'].shift(-1)\n",
    "    event_list['Duration'] = event_list['Next Event Time'] - event_list['Time']\n",
    "\n",
    "    # Intervals\n",
    "    intervals = event_list.copy()\n",
    "    intervals = intervals.dropna(subset=['Next Container']).copy()\n",
    "    intervals['Dwell Rise'] = intervals['Duration'] * intervals['Box_Count']\n",
    "    intervals = pd.merge(intervals, container_times, on='Container', how='inner')\n",
    "    intervals['Dwell Loss'] = intervals.apply(lambda row: -1 * row['Dwell'] if row['Event Type'] == 'Departures' else 0, axis=1)\n",
    "    intervals['Dwell Incr'] = intervals['Dwell Rise'] + intervals['Dwell Loss']\n",
    "    intervals['Ending Dwell'] = intervals['Dwell Incr'].cumsum()\n",
    "    intervals['Starting Dwell'] = intervals['Ending Dwell'] - intervals['Dwell Rise']\n",
    "    intervals['Starting Avg Dwell'] = intervals['Starting Dwell'] / intervals['Box_Count']\n",
    "    intervals['Ending Avg Dwell'] = intervals['Ending Dwell'] / intervals['Box_Count']\n",
    "\n",
    "    avg_dwell_segments = intervals.copy()\n",
    "    avg_dwell_segments = avg_dwell_segments.drop(columns=[\n",
    "                        'Container','Event Type','Box_Count_Incr','Box_Count'\n",
    "                        ,'Next Container','Next Event Type','Duration','Dwell Rise'\n",
    "                        ,'Arrivals','Departures','Dwell','Dwell Loss'\n",
    "                        ,'Dwell Incr','Starting Dwell','Ending Dwell'])\n",
    "\n",
    "    dwell_segments = intervals.copy()\n",
    "    dwell_segments = dwell_segments.drop(columns=[\n",
    "                        'Container','Event Type','Box_Count_Incr','Box_Count'\n",
    "                        ,'Next Container','Next Event Type','Duration','Dwell Rise'\n",
    "                        ,'Arrivals','Departures','Dwell','Dwell Loss'\n",
    "                        ,'Dwell Incr','Starting Avg Dwell','Ending Avg Dwell'])\n",
    "\n",
    "    # Total dwell time plot\n",
    "    plot_segments(dwell_segments, 'Time', 'Next Event Time', 'Starting Dwell', 'Ending Dwell',\n",
    "                  'Time (hours)', 'Total Dwell (hours)', 'Total Dwell Time Over Time', '#36454F', True)\n",
    "\n",
    "    box_count_segments = intervals.copy()\n",
    "    box_count_segments = box_count_segments.drop(columns=[\n",
    "                            'Container','Event Type','Box_Count_Incr'\n",
    "                            ,'Next Container','Next Event Type','Duration','Dwell Rise'\n",
    "                            ,'Arrivals','Departures','Dwell','Dwell Loss'\n",
    "                            ,'Dwell Incr','Ending Dwell','Starting Dwell','Starting Avg Dwell','Ending Avg Dwell'])\n",
    "\n",
    "    # Box count plot\n",
    "    plot_segments(box_count_segments, 'Time', 'Next Event Time', 'Box_Count', 'Box_Count',\n",
    "                  'Time (hours)', 'Container Count', 'Container Count Over Time', '#36454F', True)\n",
    "\n",
    "    sample_offset = sampling_interval / 2\n",
    "    start_time = container_times['Arrivals'].min()\n",
    "    end_time = container_times['Departures'].max()\n",
    "    period = np.ceil((end_time - start_time) / 24) * 24 # Want period to be in whole days\n",
    "    sampling_times = list(np.arange(start_time, end_time + sampling_interval, sampling_interval))\n",
    "    sampling_times = [time + sample_offset for time in sampling_times]\n",
    "    sampling_df = pd.DataFrame(sampling_times, columns=['SamplingTime'])\n",
    "    sampling_df = pd.merge(sampling_df.assign(key=1), avg_dwell_segments.assign(key=1), on='key').query('Time <= SamplingTime <= `Next Event Time`').drop('key', axis=1)\n",
    "    sampling_df['SampleDwell'] = sampling_df['Starting Avg Dwell'] + sampling_df['SamplingTime'] - sampling_df['Time']\n",
    "    sampling_df = sampling_df.sort_values(by=['SamplingTime', 'Time'], ascending=[True, True])\n",
    "    sampling_df = sampling_df.drop(columns=['Time', 'Next Event Time', 'Starting Avg Dwell', 'Ending Avg Dwell'])\n",
    "    sampling_df = sampling_df.drop_duplicates(subset='SamplingTime')\n",
    "\n",
    "    # Avg dwell time plot\n",
    "    avg_dwell_plot = plot_segments(avg_dwell_segments, 'Time', 'Next Event Time', 'Starting Avg Dwell', 'Ending Avg Dwell',\n",
    "                  'Time (hours)', 'Avg Dwell (hours)', 'Avg Dwell Time Over Time and Sampled Points', '#36454F', False)\n",
    "    avg_dwell_plot.scatter(sampling_df['SamplingTime'], sampling_df['SampleDwell'], color='#36454F', label='Sampling Points')\n",
    "    avg_dwell_plot.show()\n",
    "\n",
    "    # Integration result - entire period\n",
    "    intervals['Areas'] = intervals['Starting Avg Dwell'] * intervals['Duration'] + 0.5 * intervals['Duration'] * intervals['Dwell Rise']\n",
    "    integration_result = intervals['Areas'].sum() / period\n",
    "\n",
    "    # Sampling result - entire period\n",
    "    print(sampling_df)\n",
    "    sampling_df['SampleDwell'] = sampling_df['SampleDwell'].fillna(0)\n",
    "    sampling_result = sampling_df['SampleDwell'].mean()\n",
    "\n",
    "    # Ratio result - entire period\n",
    "    container_times['DwellAreas'] = 0.5 * ((container_times['Departures'] - container_times['Arrivals']) ** 2)\n",
    "    container_times['BoxCountAreas'] = container_times['Departures'] - container_times['Arrivals']\n",
    "    ratio_result = container_times['DwellAreas'].sum() / container_times['BoxCountAreas'].sum()\n",
    "\n",
    "    # Mainsail result - entire period\n",
    "    mainsail_result = (container_times['Departures'].sum() - container_times['Arrivals'].sum())/container_times.shape[0]\n",
    "\n",
    "    ## Daily results\n",
    "    event_list_days = pd.melt(container_times, id_vars=['Container'], value_vars=['Arrivals', 'Departures'], \n",
    "                    var_name='Event Type', value_name='Time')\n",
    "\n",
    "    last_day = end_time // 24\n",
    "    first_day = start_time // 24\n",
    "    num_days = last_day - first_day \n",
    "    days = list(range(first_day + 1, last_day + 2)) # +2, really, Python?\n",
    "    new_events = pd.DataFrame({\n",
    "        'Container': [None for _ in range(num_days)],\n",
    "        'Event Type': ['Day Change' for _ in range(num_days)],\n",
    "        'Time': [(_ + 1) * 24 for _ in range(num_days)]\n",
    "    })\n",
    "    \n",
    "    event_list_days = pd.concat([event_list_days, new_events], ignore_index=True)\n",
    "    event_list_days = event_list_days.sort_values(by=['Time', 'Event Type'], ascending=[True, False])\n",
    "    event_list_days['Box_Count_Incr'] = event_list_days['Event Type'].apply(lambda x: 1 if x == 'Arrivals' else -1 if x == 'Departures' else 0)\n",
    "    event_list_days['Box_Count'] = event_list_days['Box_Count_Incr'].cumsum()\n",
    "    event_list_days['Next Container'] = event_list_days['Container'].shift(-1)\n",
    "    event_list_days['Next Event Type'] = event_list_days['Event Type'].shift(-1)\n",
    "    event_list_days['Next Event Time'] = event_list_days['Time'].shift(-1)\n",
    "    event_list_days['Duration'] = event_list_days['Next Event Time'] - event_list_days['Time']\n",
    "    #print('event_list_days = \\n',event_list_days,'\\n end event_list_days')\n",
    "    \n",
    "    daily_intervals = event_list_days.copy()\n",
    "    daily_intervals = daily_intervals.dropna(subset=['Next Event Time']).copy()\n",
    "    daily_intervals['Dwell Rise'] = daily_intervals['Duration'] * daily_intervals['Box_Count']\n",
    "    trimmed_container_times = container_times[['Container', 'Dwell']]\n",
    "    daily_intervals = pd.merge(daily_intervals, trimmed_container_times, on='Container', how='left')\n",
    "    daily_intervals['Dwell Loss'] = daily_intervals.apply(lambda row: -1 * row['Dwell'] if row['Event Type'] == 'Departures' else 0, axis=1)\n",
    "    daily_intervals['Dwell Incr'] = daily_intervals['Dwell Rise'] + daily_intervals['Dwell Loss']\n",
    "    daily_intervals['Ending Dwell'] = daily_intervals['Dwell Incr'].cumsum()\n",
    "    daily_intervals['Starting Dwell'] = daily_intervals['Ending Dwell'] - daily_intervals['Dwell Rise']\n",
    "    daily_intervals['Starting Avg Dwell'] = return_zero_for_div_by_zero(daily_intervals['Starting Dwell'], daily_intervals['Box_Count'])\n",
    "    daily_intervals['Ending Avg Dwell'] = return_zero_for_div_by_zero(daily_intervals['Ending Dwell'], daily_intervals['Box_Count'])\n",
    "    daily_intervals['Areas'] = daily_intervals['Starting Avg Dwell'] * daily_intervals['Duration'] + 0.5 * daily_intervals['Duration'] * daily_intervals['Dwell Rise']\n",
    "    daily_intervals['Day'] = (daily_intervals['Time'] // 24) + 1\n",
    "\n",
    "    # Daily integration results\n",
    "    daily_integration_results = daily_intervals.groupby('Day').agg({'Areas': 'sum', 'Duration': 'sum', 'Time': 'count'}).reset_index()\n",
    "    daily_integration_results = daily_integration_results.rename(columns={\n",
    "        'Areas': 'Total_Areas',\n",
    "        'Duration': 'Total_Duration',\n",
    "        'Time': 'Record_Count'\n",
    "    })\n",
    "    daily_integration_results = daily_integration_results[\n",
    "        ~((daily_integration_results['Total_Duration'] == 0.0) & (daily_integration_results['Record_Count'] == 1))\n",
    "    ]\n",
    "    daily_integration_results['avg dwell'] = daily_integration_results['Total_Areas'] / 24  \n",
    "    integration_check = daily_integration_results['avg dwell'].mean()\n",
    "\n",
    "    # Daily sampling results\n",
    "    sampling_df = sampling_df.reset_index()\n",
    "    sampling_df = sampling_df.drop(columns=['index'])\n",
    "    sampling_df['DayIndex'] = sampling_df['SamplingTime'].apply(lambda x: int(x / 24.0) + 1)\n",
    "    sampling_df['TranslatedTime'] = sampling_df['SamplingTime'] - sampling_df['DayIndex'] * 24.0\n",
    "    sampling_df['TranslatedQuotient'] = sampling_df['TranslatedTime'].apply(lambda x: int(x / 24.0))\n",
    "    sampling_df['Day'] = sampling_df['DayIndex'] + sampling_df['TranslatedQuotient']\n",
    "    sampling_df['Day'] = sampling_df['Day'].apply(lambda x: max(x, 1))\n",
    "    print(sampling_df)\n",
    "\n",
    "    daily_sampling_results = sampling_df.groupby('Day')['SampleDwell'].mean().reset_index()\n",
    "    daily_sampling_results = daily_sampling_results.rename(columns={\n",
    "        'SampleDwell': 'Avg Dwell'\n",
    "    })\n",
    "    sampling_check = daily_sampling_results['Avg Dwell'].mean()\n",
    "\n",
    "    # Daily ratio method results\n",
    "    daily_ratio_results = daily_integration_results[['Day']]\n",
    "    daily_ratio_results = daily_ratio_results.merge(container_times, how='cross')\n",
    "    daily_ratio_results = daily_ratio_results.drop(columns=['Dwell', 'DwellAreas', 'BoxCountAreas'])\n",
    "    daily_ratio_results['Start_of_day'] = (daily_ratio_results['Day'] - 1) * 24\n",
    "    daily_ratio_results = daily_ratio_results[daily_ratio_results['Departures'] > daily_ratio_results['Start_of_day']]\n",
    "    daily_ratio_results['End_of_day'] = daily_ratio_results['Day'] * 24\n",
    "    daily_ratio_results = daily_ratio_results[daily_ratio_results['Arrivals'] < daily_ratio_results['End_of_day']]\n",
    "    daily_ratio_results['Daily_dwell_start'] = np.maximum(daily_ratio_results['Arrivals'], daily_ratio_results['Start_of_day'])\n",
    "    daily_ratio_results['Daily_dwell_end'] = np.minimum(daily_ratio_results['Departures'], daily_ratio_results['End_of_day'])\n",
    "    daily_ratio_results['Daily_dwell_rise'] = daily_ratio_results['Daily_dwell_end'] - daily_ratio_results['Daily_dwell_start']\n",
    "    daily_ratio_results['Daily_dwell_final'] = daily_ratio_results.sort_values('Day').groupby('Container')['Daily_dwell_rise'].cumsum()\n",
    "    daily_ratio_results['Daily_dwell_begin'] = daily_ratio_results['Daily_dwell_final'] - daily_ratio_results['Daily_dwell_rise']\n",
    "    daily_ratio_results['Daily_avg_dwell'] = (daily_ratio_results['Daily_dwell_final'] + daily_ratio_results['Daily_dwell_begin'])/2\n",
    "    daily_ratio_results['Avg_dwell_term'] = daily_ratio_results['Daily_avg_dwell'] * daily_ratio_results['Daily_dwell_rise'] / 24.0\n",
    "    daily_ratio_results['Avg_box_count_term'] = daily_ratio_results['Daily_dwell_rise'] / 24.0\n",
    "    grouped_sum_ratio_results = daily_ratio_results.groupby('Day')[['Avg_dwell_term', 'Avg_box_count_term']].sum()\n",
    "    grouped_sum_ratio_results['Division'] = grouped_sum_ratio_results['Avg_dwell_term'] / grouped_sum_ratio_results['Avg_box_count_term']\n",
    "    ratio_check = grouped_sum_ratio_results['Division'].mean()\n",
    "\n",
    "    # Mainsail metric daily results\n",
    "    mainsail_daily_results = daily_integration_results.copy()\n",
    "    mainsail_daily_results = mainsail_daily_results.drop(['Total_Areas', 'Total_Duration', 'Record_Count', 'avg dwell'], axis=1)\n",
    "    mainsail_daily_results = mainsail_daily_results.merge(container_times, how='cross')\n",
    "    mainsail_daily_results = mainsail_daily_results.drop(columns=['DwellAreas', 'BoxCountAreas'])\n",
    "    mainsail_daily_results['Day_start'] = (mainsail_daily_results['Day'] - 1) * 24\n",
    "    mainsail_daily_results['Day_end'] = mainsail_daily_results['Day'] * 24\n",
    "    mainsail_daily_results = mainsail_daily_results[(mainsail_daily_results['Arrivals'] >= mainsail_daily_results['Day_start']) & (mainsail_daily_results['Departures'] <= mainsail_daily_results['Day_end'])]\n",
    "    grouped_ms_daily_results = mainsail_daily_results.groupby('Day')['Dwell'].mean().reset_index()\n",
    "    grouped_ms_daily_results = grouped_ms_daily_results.rename(columns={'Dwell': 'AvgDwell'})\n",
    "    days_df = grouped_sum_ratio_results.copy()\n",
    "    days_df = days_df.drop(columns=['Avg_dwell_term', 'Avg_box_count_term', 'Division'])\n",
    "    mainsail_daily_results = days_df.merge(grouped_ms_daily_results, on='Day', how='left')\n",
    "    mainsail_check = mainsail_daily_results['AvgDwell'].mean()\n",
    "    \n",
    "    return (integration_result, daily_integration_results, integration_check, \n",
    "            sampling_result, daily_sampling_results, sampling_check, \n",
    "            ratio_result, grouped_sum_ratio_results, ratio_check,\n",
    "            mainsail_result, mainsail_daily_results, mainsail_check)"
   ]
  },
  {
   "cell_type": "code",
   "execution_count": 339,
   "id": "1ba0e9bc-fc9c-48ca-8656-129a60cf964a",
   "metadata": {},
   "outputs": [
    {
     "name": "stdout",
     "output_type": "stream",
     "text": [
      "  Container  Arrivals  Departures\n",
      "0         A         0          12\n",
      "1         B        24          48\n",
      "2         C        48          50\n"
     ]
    }
   ],
   "source": [
    "data = {\n",
    "    'Container': ['A', 'B', 'C'],\n",
    "    'Arrivals': [0, 24, 48],\n",
    "    'Departures': [12, 48, 50]\n",
    "}\n",
    "\n",
    "box_schedules = pd.DataFrame(data)\n",
    "print(box_schedules)"
   ]
  },
  {
   "cell_type": "code",
   "execution_count": 340,
   "id": "6af255e9-1ff6-4150-b82a-874c56d35cbb",
   "metadata": {},
   "outputs": [],
   "source": [
    "sample_gap = 3"
   ]
  },
  {
   "cell_type": "code",
   "execution_count": 341,
   "id": "d98ca6bb-6312-4a92-8e5f-e4aa208f9ac3",
   "metadata": {},
   "outputs": [
    {
     "data": {
      "image/png": "[encoded data removed]",
      "text/plain": [
       "<Figure size 640x480 with 1 Axes>"
      ]
     },
     "metadata": {},
     "output_type": "display_data"
    },
    {
     "data": {
      "image/png": "[encoded data removed]",
      "text/plain": [
       "<Figure size 640x480 with 1 Axes>"
      ]
     },
     "metadata": {},
     "output_type": "display_data"
    },
    {
     "data": {
      "image/png": "[encoded data removed]",
      "text/plain": [
       "<Figure size 640x480 with 1 Axes>"
      ]
     },
     "metadata": {},
     "output_type": "display_data"
    },
    {
     "name": "stdout",
     "output_type": "stream",
     "text": [
      "    SamplingTime  SampleDwell\n",
      "0            1.5          1.5\n",
      "5            4.5          4.5\n",
      "10           7.5          7.5\n",
      "15          10.5         10.5\n",
      "21          13.5          NaN\n",
      "26          16.5          NaN\n",
      "31          19.5          NaN\n",
      "36          22.5          NaN\n",
      "42          25.5          1.5\n",
      "47          28.5          4.5\n",
      "52          31.5          7.5\n",
      "57          34.5         10.5\n",
      "62          37.5         13.5\n",
      "67          40.5         16.5\n",
      "72          43.5         19.5\n",
      "77          46.5         22.5\n",
      "84          49.5          1.5\n",
      "    SamplingTime  SampleDwell  DayIndex  TranslatedTime  TranslatedQuotient  \\\n",
      "0            1.5          1.5         1           -22.5                   0   \n",
      "1            4.5          4.5         1           -19.5                   0   \n",
      "2            7.5          7.5         1           -16.5                   0   \n",
      "3           10.5         10.5         1           -13.5                   0   \n",
      "4           13.5          0.0         1           -10.5                   0   \n",
      "5           16.5          0.0         1            -7.5                   0   \n",
      "6           19.5          0.0         1            -4.5                   0   \n",
      "7           22.5          0.0         1            -1.5                   0   \n",
      "8           25.5          1.5         2           -22.5                   0   \n",
      "9           28.5          4.5         2           -19.5                   0   \n",
      "10          31.5          7.5         2           -16.5                   0   \n",
      "11          34.5         10.5         2           -13.5                   0   \n",
      "12          37.5         13.5         2           -10.5                   0   \n",
      "13          40.5         16.5         2            -7.5                   0   \n",
      "14          43.5         19.5         2            -4.5                   0   \n",
      "15          46.5         22.5         2            -1.5                   0   \n",
      "16          49.5          1.5         3           -22.5                   0   \n",
      "\n",
      "    Day  \n",
      "0     1  \n",
      "1     1  \n",
      "2     1  \n",
      "3     1  \n",
      "4     1  \n",
      "5     1  \n",
      "6     1  \n",
      "7     1  \n",
      "8     2  \n",
      "9     2  \n",
      "10    2  \n",
      "11    2  \n",
      "12    2  \n",
      "13    2  \n",
      "14    2  \n",
      "15    2  \n",
      "16    3  \n"
     ]
    },
    {
     "data": {
      "text/plain": [
       "(np.float64(5.027777777777778),\n",
       "    Day  Total_Areas  Total_Duration  Record_Count  avg dwell\n",
       " 0    1         72.0            24.0             2   3.000000\n",
       " 1    2        288.0            24.0             2  12.000000\n",
       " 2    3          2.0             2.0             3   0.083333,\n",
       " np.float64(5.027777777777778),\n",
       " np.float64(7.147058823529412),\n",
       "    Day  Avg Dwell\n",
       " 0    1        3.0\n",
       " 1    2       12.0\n",
       " 2    3        1.5,\n",
       " np.float64(5.5),\n",
       " np.float64(9.526315789473685),\n",
       "      Avg_dwell_term  Avg_box_count_term  Division\n",
       " Day                                              \n",
       " 1          3.000000            0.500000       6.0\n",
       " 2         12.000000            1.000000      12.0\n",
       " 3          0.083333            0.083333       1.0,\n",
       " np.float64(6.333333333333333),\n",
       " np.float64(12.666666666666666),\n",
       "    Day  AvgDwell\n",
       " 0    1      12.0\n",
       " 1    2      24.0\n",
       " 2    3       2.0,\n",
       " np.float64(12.666666666666666))"
      ]
     },
     "execution_count": 341,
     "metadata": {},
     "output_type": "execute_result"
    }
   ],
   "source": [
    "dwell_times(box_schedules, sample_gap)"
   ]
  },
  {
   "cell_type": "markdown",
   "id": "9805e3c8-5bba-42fa-a1b7-7bf6c7e8c956",
   "metadata": {},
   "source": [
    "Need to proof ratio and Mainsail results with second example. Then test with additional examples."
   ]
  }
 ],
 "metadata": {
  "kernelspec": {
   "display_name": "Python 3 (ipykernel)",
   "language": "python",
   "name": "python3"
  },
  "language_info": {
   "codemirror_mode": {
    "name": "ipython",
    "version": 3
   },
   "file_extension": ".py",
   "mimetype": "text/x-python",
   "name": "python",
   "nbconvert_exporter": "python",
   "pygments_lexer": "ipython3",
   "version": "3.10.11"
  }
 },
 "nbformat": 4,
 "nbformat_minor": 5
}
